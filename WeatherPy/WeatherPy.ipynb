{
 "cells": [
  {
   "cell_type": "markdown",
   "metadata": {},
   "source": [
    "# WeatherPy\n",
    "----\n",
    "\n",
    "#### Note\n",
    "* Instructions have been included for each segment. You do not have to follow them exactly, but they are included to help you think through the steps."
   ]
  },
  {
   "cell_type": "code",
   "execution_count": 18,
   "metadata": {
    "scrolled": true
   },
   "outputs": [],
   "source": [
    "# Dependencies and Setup\n",
    "import matplotlib.pyplot as plt\n",
    "import pandas as pd\n",
    "import numpy as np\n",
    "import requests\n",
    "import time\n",
    "from scipy.stats import linregress\n",
    "\n",
    "# Import API key\n",
    "from api_keys import weather_api_key\n",
    "\n",
    "# Incorporated citipy to determine city based on latitude and longitude\n",
    "from citipy import citipy\n",
    "\n",
    "# Output File (CSV)\n",
    "output_data_file = \"output_data/cities.csv\"\n",
    "\n",
    "# Range of latitudes and longitudes\n",
    "lat_range = (-90, 90)\n",
    "lng_range = (-180, 180)"
   ]
  },
  {
   "cell_type": "markdown",
   "metadata": {},
   "source": [
    "## Generate Cities List"
   ]
  },
  {
   "cell_type": "code",
   "execution_count": 19,
   "metadata": {},
   "outputs": [
    {
     "data": {
      "text/plain": [
       "603"
      ]
     },
     "execution_count": 19,
     "metadata": {},
     "output_type": "execute_result"
    }
   ],
   "source": [
    "# List for holding lat_lngs and cities\n",
    "lat_lngs = []\n",
    "cities = []\n",
    "\n",
    "# Create a set of random lat and lng combinations\n",
    "lats = np.random.uniform(lat_range[0], lat_range[1], size=1500)\n",
    "lngs = np.random.uniform(lng_range[0], lng_range[1], size=1500)\n",
    "lat_lngs = zip(lats, lngs)\n",
    "\n",
    "# Identify nearest city for each lat, lng combination\n",
    "for lat_lng in lat_lngs:\n",
    "    city = citipy.nearest_city(lat_lng[0], lat_lng[1]).city_name\n",
    "    \n",
    "    # If the city is unique, then add it to a our cities list\n",
    "    if city not in cities:\n",
    "        cities.append(city)\n",
    "\n",
    "# Print the city count to confirm sufficient count\n",
    "len(cities)"
   ]
  },
  {
   "cell_type": "markdown",
   "metadata": {},
   "source": [
    "### Perform API Calls\n",
    "* Perform a weather check on each city using a series of successive API calls.\n",
    "* Include a print log of each city as it'sbeing processed (with the city number and city name).\n"
   ]
  },
  {
   "cell_type": "code",
   "execution_count": 20,
   "metadata": {
    "scrolled": true
   },
   "outputs": [
    {
     "name": "stdout",
     "output_type": "stream",
     "text": [
      "Beginning Data Retrieval\n",
      "-----------------------------\n",
      "Processing Record 1 | vaini\n",
      "Processing Record 2 | luderitz\n",
      "Processing Record 3 | rikitea\n",
      "Processing Record 4 | ushuaia\n",
      "Processing Record 5 | chapais\n",
      "Processing Record 6 | datong\n",
      "Processing Record 7 | kapaa\n",
      "Processing Record 8 | pochutla\n",
      "Processing Record 9 | mandalgovi\n",
      "Processing Record 10 | atuona\n",
      "Processing Record 11 | pevek\n",
      "City not found. Skipping...\n",
      "Processing Record 12 | north platte\n",
      "Processing Record 13 | dingle\n",
      "Processing Record 14 | upernavik\n",
      "Processing Record 15 | faya\n",
      "Processing Record 16 | cherskiy\n",
      "Processing Record 17 | albany\n",
      "Processing Record 18 | carnarvon\n",
      "Processing Record 19 | kruisfontein\n",
      "Processing Record 20 | new norfolk\n",
      "Processing Record 21 | parrita\n",
      "Processing Record 22 | pathein\n",
      "Processing Record 23 | ribeira grande\n",
      "Processing Record 24 | azogues\n",
      "Processing Record 25 | bluff\n",
      "Processing Record 26 | salalah\n",
      "Processing Record 27 | paratebueno\n",
      "Processing Record 28 | qaanaaq\n",
      "Processing Record 29 | rawatsar\n",
      "Processing Record 30 | houston\n",
      "Processing Record 31 | castro\n",
      "Processing Record 32 | impfondo\n",
      "Processing Record 33 | gizo\n",
      "Processing Record 34 | lavrentiya\n",
      "Processing Record 35 | jamestown\n",
      "Processing Record 36 | paamiut\n",
      "Processing Record 37 | bambous virieux\n",
      "Processing Record 38 | redditch\n",
      "Processing Record 39 | bombarral\n",
      "Processing Record 40 | arraial do cabo\n",
      "Processing Record 41 | tuktoyaktuk\n",
      "Processing Record 42 | cidreira\n",
      "Processing Record 43 | khatanga\n",
      "Processing Record 44 | dvinskoy\n",
      "Processing Record 45 | nikolskoye\n",
      "Processing Record 46 | codrington\n",
      "Processing Record 47 | tasiilaq\n",
      "Processing Record 48 | saldanha\n",
      "Processing Record 49 | cape town\n",
      "Processing Record 50 | naze\n",
      "Processing Record 51 | mataura\n",
      "Processing Record 52 | mar del plata\n",
      "Processing Record 53 | puerto ayora\n",
      "Processing Record 54 | talnakh\n",
      "Processing Record 55 | hobart\n",
      "Processing Record 56 | bredasdorp\n",
      "Processing Record 57 | hilo\n",
      "Processing Record 58 | ilulissat\n",
      "Processing Record 59 | dikson\n",
      "Processing Record 60 | butaritari\n",
      "Processing Record 61 | winnemucca\n",
      "City not found. Skipping...\n",
      "Processing Record 62 | tilichiki\n",
      "Processing Record 63 | leningradskiy\n",
      "City not found. Skipping...\n",
      "Processing Record 64 | lubango\n",
      "Processing Record 65 | luanda\n",
      "Processing Record 66 | loncoche\n",
      "Processing Record 67 | barrow\n",
      "Processing Record 68 | bantogon\n",
      "Processing Record 69 | two hills\n",
      "Processing Record 70 | busselton\n",
      "Processing Record 71 | chorozinho\n",
      "Processing Record 72 | kodiak\n",
      "Processing Record 73 | camana\n",
      "City not found. Skipping...\n",
      "Processing Record 74 | avera\n",
      "Processing Record 75 | morehead\n",
      "City not found. Skipping...\n",
      "Processing Record 76 | georgetown\n",
      "Processing Record 77 | lasa\n",
      "City not found. Skipping...\n",
      "Processing Record 78 | port alfred\n",
      "Processing Record 79 | punta arenas\n",
      "Processing Record 80 | lagoa\n",
      "Processing Record 81 | lujiang\n",
      "Processing Record 82 | avarua\n",
      "Processing Record 83 | pemangkat\n",
      "Processing Record 84 | tura\n",
      "Processing Record 85 | qui nhon\n",
      "Processing Record 86 | ponta do sol\n",
      "City not found. Skipping...\n",
      "Processing Record 87 | lebu\n",
      "Processing Record 88 | necochea\n",
      "Processing Record 89 | kalispell\n",
      "Processing Record 90 | centralia\n",
      "Processing Record 91 | dicabisagan\n",
      "Processing Record 92 | namtsy\n",
      "Processing Record 93 | la ronge\n",
      "Processing Record 94 | kaitangata\n",
      "Processing Record 95 | marawi\n",
      "Processing Record 96 | provideniya\n",
      "Processing Record 97 | morondava\n",
      "Processing Record 98 | klaksvik\n",
      "Processing Record 99 | lorengau\n",
      "Processing Record 100 | yellowknife\n",
      "Processing Record 101 | acarau\n",
      "Processing Record 102 | maniitsoq\n",
      "Processing Record 103 | labuhan\n",
      "Processing Record 104 | saint george\n",
      "Processing Record 105 | narsaq\n",
      "Processing Record 106 | aranos\n",
      "Processing Record 107 | gao\n",
      "City not found. Skipping...\n",
      "Processing Record 108 | bathsheba\n",
      "Processing Record 109 | laguna\n",
      "Processing Record 110 | dovers\n",
      "City not found. Skipping...\n",
      "Processing Record 111 | yulara\n",
      "Processing Record 112 | tiksi\n",
      "Processing Record 113 | kortkeros\n",
      "Processing Record 114 | sao gabriel da cachoeira\n",
      "Processing Record 115 | katsuura\n",
      "Processing Record 116 | igarka\n",
      "Processing Record 117 | hamilton\n",
      "Processing Record 118 | chokurdakh\n",
      "City not found. Skipping...\n",
      "City not found. Skipping...\n",
      "Processing Record 119 | bengkulu\n",
      "Processing Record 120 | te anau\n",
      "Processing Record 121 | geraldton\n",
      "Processing Record 122 | areia branca\n",
      "Processing Record 123 | sinnamary\n",
      "City not found. Skipping...\n",
      "Processing Record 124 | culpeper\n",
      "Processing Record 125 | rabo de peixe\n",
      "Processing Record 126 | westport\n",
      "City not found. Skipping...\n",
      "Processing Record 127 | saint-philippe\n",
      "Processing Record 128 | hasaki\n",
      "Processing Record 129 | acapulco\n",
      "Processing Record 130 | vila velha\n",
      "Processing Record 131 | aklavik\n",
      "Processing Record 132 | panjab\n",
      "Processing Record 133 | bo phloi\n",
      "Processing Record 134 | tepepa\n",
      "Processing Record 135 | madawaska\n",
      "Processing Record 136 | ganzhou\n",
      "Processing Record 137 | marquette\n",
      "Processing Record 138 | cangucu\n",
      "City not found. Skipping...\n",
      "City not found. Skipping...\n",
      "City not found. Skipping...\n",
      "Processing Record 139 | hermanus\n",
      "City not found. Skipping...\n",
      "City not found. Skipping...\n",
      "Processing Record 140 | tazovskiy\n",
      "City not found. Skipping...\n",
      "Processing Record 141 | thompson\n",
      "Processing Record 142 | koungheul\n",
      "Processing Record 143 | east london\n",
      "Processing Record 144 | kamskiye polyany\n",
      "City not found. Skipping...\n",
      "Processing Record 145 | americus\n",
      "Processing Record 146 | viedma\n",
      "Processing Record 147 | marsh harbour\n",
      "City not found. Skipping...\n",
      "Processing Record 148 | torbay\n",
      "Processing Record 149 | manali\n",
      "Processing Record 150 | aras\n",
      "Processing Record 151 | namatanai\n",
      "Processing Record 152 | iralaya\n",
      "Processing Record 153 | chara\n",
      "Processing Record 154 | bingol\n",
      "Processing Record 155 | comodoro rivadavia\n",
      "Processing Record 156 | berdigestyakh\n",
      "City not found. Skipping...\n",
      "Processing Record 157 | komsomolskiy\n",
      "Processing Record 158 | nantucket\n",
      "Processing Record 159 | chuy\n",
      "Processing Record 160 | balikpapan\n",
      "Processing Record 161 | morgan city\n",
      "Processing Record 162 | guerrero negro\n",
      "Processing Record 163 | znamenka\n",
      "Processing Record 164 | saskylakh\n",
      "Processing Record 165 | seminole\n",
      "Processing Record 166 | san cristobal\n",
      "Processing Record 167 | port elizabeth\n",
      "City not found. Skipping...\n",
      "Processing Record 168 | san patricio\n",
      "Processing Record 169 | souillac\n",
      "Processing Record 170 | borisoglebsk\n",
      "Processing Record 171 | abu samrah\n",
      "Processing Record 172 | takoradi\n",
      "Processing Record 173 | manggar\n",
      "Processing Record 174 | ingham\n",
      "Processing Record 175 | ouadda\n",
      "Processing Record 176 | mabaruma\n",
      "Processing Record 177 | aleksandrov gay\n",
      "Processing Record 178 | samarai\n",
      "Processing Record 179 | akdepe\n",
      "Processing Record 180 | coahuayana\n",
      "Processing Record 181 | hami\n",
      "Processing Record 182 | fort nelson\n",
      "Processing Record 183 | kolokani\n",
      "Processing Record 184 | la crosse\n",
      "Processing Record 185 | matamoros\n",
      "Processing Record 186 | hithadhoo\n",
      "Processing Record 187 | longyearbyen\n",
      "Processing Record 188 | kavieng\n",
      "Processing Record 189 | shakiso\n",
      "Processing Record 190 | juneau\n",
      "Processing Record 191 | mahebourg\n",
      "Processing Record 192 | airai\n",
      "Processing Record 193 | teguise\n",
      "Processing Record 194 | cabo san lucas\n",
      "Processing Record 195 | vardo\n",
      "Processing Record 196 | tual\n",
      "City not found. Skipping...\n",
      "Processing Record 197 | ilebo\n",
      "Processing Record 198 | okhotsk\n",
      "Processing Record 199 | itaquyry\n",
      "Processing Record 200 | ossora\n",
      "Processing Record 201 | puerto del rosario\n",
      "Processing Record 202 | kishi\n",
      "Processing Record 203 | sale\n",
      "Processing Record 204 | tabou\n",
      "City not found. Skipping...\n",
      "Processing Record 205 | batagay-alyta\n",
      "Processing Record 206 | encantado\n",
      "Processing Record 207 | manaure\n",
      "Processing Record 208 | kitaibaraki\n",
      "Processing Record 209 | esperance\n",
      "Processing Record 210 | urucara\n",
      "Processing Record 211 | sisimiut\n",
      "Processing Record 212 | anadyr\n",
      "Processing Record 213 | sola\n",
      "Processing Record 214 | rock sound\n",
      "Processing Record 215 | saint-pierre\n",
      "Processing Record 216 | nuuk\n",
      "Processing Record 217 | lompoc\n",
      "Processing Record 218 | aller\n",
      "Processing Record 219 | aginskoye\n",
      "City not found. Skipping...\n",
      "Processing Record 220 | san luis\n",
      "Processing Record 221 | kysyl-syr\n",
      "Processing Record 222 | askino\n",
      "Processing Record 223 | san quintin\n",
      "Processing Record 224 | chinhoyi\n",
      "Processing Record 225 | surt\n",
      "Processing Record 226 | moron\n"
     ]
    },
    {
     "name": "stdout",
     "output_type": "stream",
     "text": [
      "Processing Record 227 | romitan\n",
      "Processing Record 228 | flin flon\n",
      "Processing Record 229 | oussouye\n",
      "Processing Record 230 | martapura\n",
      "Processing Record 231 | prince rupert\n",
      "Processing Record 232 | kirakira\n",
      "Processing Record 233 | pinhao\n",
      "Processing Record 234 | yar-sale\n",
      "Processing Record 235 | sao filipe\n",
      "Processing Record 236 | chirongui\n",
      "Processing Record 237 | masallatah\n",
      "Processing Record 238 | dong hoi\n",
      "Processing Record 239 | stornoway\n",
      "Processing Record 240 | barranca\n",
      "Processing Record 241 | hay river\n",
      "Processing Record 242 | yarim\n",
      "Processing Record 243 | vilsbiburg\n",
      "Processing Record 244 | bonthe\n",
      "Processing Record 245 | brainerd\n",
      "Processing Record 246 | bethel\n",
      "Processing Record 247 | derzhavinsk\n",
      "Processing Record 248 | ambon\n",
      "Processing Record 249 | faanui\n",
      "Processing Record 250 | saint anthony\n",
      "Processing Record 251 | nova odesa\n",
      "City not found. Skipping...\n",
      "Processing Record 252 | ballina\n",
      "Processing Record 253 | san jose de guanipa\n",
      "Processing Record 254 | honningsvag\n",
      "Processing Record 255 | atar\n",
      "Processing Record 256 | matagami\n",
      "Processing Record 257 | la palma\n",
      "Processing Record 258 | warrnambool\n",
      "Processing Record 259 | medvedka\n",
      "Processing Record 260 | atasu\n",
      "Processing Record 261 | husavik\n",
      "Processing Record 262 | buchanan\n",
      "Processing Record 263 | mahibadhoo\n",
      "Processing Record 264 | santa lucia\n",
      "Processing Record 265 | port hardy\n",
      "Processing Record 266 | dolores\n",
      "Processing Record 267 | lata\n",
      "Processing Record 268 | mangai\n",
      "Processing Record 269 | ancud\n",
      "Processing Record 270 | emba\n",
      "Processing Record 271 | araouane\n",
      "Processing Record 272 | clyde river\n",
      "City not found. Skipping...\n",
      "Processing Record 273 | fairbanks\n",
      "Processing Record 274 | xining\n",
      "Processing Record 275 | oneonta\n",
      "Processing Record 276 | sevierville\n",
      "Processing Record 277 | mayakonda\n",
      "Processing Record 278 | egvekinot\n",
      "Processing Record 279 | popondetta\n",
      "Processing Record 280 | rio grande\n",
      "Processing Record 281 | bilibino\n",
      "Processing Record 282 | alofi\n",
      "City not found. Skipping...\n",
      "Processing Record 283 | victoria\n",
      "Processing Record 284 | hofn\n",
      "Processing Record 285 | ust-kulom\n",
      "Processing Record 286 | carballo\n",
      "Processing Record 287 | russell\n",
      "Processing Record 288 | inhambane\n",
      "Processing Record 289 | hutchinson\n",
      "City not found. Skipping...\n",
      "Processing Record 290 | fort-shevchenko\n",
      "Processing Record 291 | mahon\n",
      "Processing Record 292 | cururupu\n",
      "Processing Record 293 | ngunguru\n",
      "Processing Record 294 | joshimath\n",
      "Processing Record 295 | dwarka\n",
      "Processing Record 296 | terrace\n",
      "Processing Record 297 | canyon\n",
      "Processing Record 298 | nunoa\n",
      "City not found. Skipping...\n",
      "Processing Record 299 | iqaluit\n",
      "Processing Record 300 | pacific grove\n",
      "Processing Record 301 | opuwo\n",
      "Processing Record 302 | nemuro\n",
      "Processing Record 303 | ayame\n",
      "Processing Record 304 | iwaki\n",
      "Processing Record 305 | ishigaki\n",
      "Processing Record 306 | vestmannaeyjar\n",
      "Processing Record 307 | vila franca do campo\n",
      "Processing Record 308 | norman wells\n",
      "Processing Record 309 | batemans bay\n",
      "Processing Record 310 | khani\n",
      "Processing Record 311 | galle\n",
      "Processing Record 312 | midland\n",
      "Processing Record 313 | vostok\n",
      "Processing Record 314 | kavaratti\n",
      "Processing Record 315 | kirksville\n",
      "Processing Record 316 | felanitx\n",
      "Processing Record 317 | hambantota\n",
      "City not found. Skipping...\n",
      "Processing Record 318 | boa vista\n",
      "Processing Record 319 | adrar\n",
      "Processing Record 320 | polovinnoye\n",
      "Processing Record 321 | syracuse\n",
      "Processing Record 322 | luganville\n",
      "Processing Record 323 | rudnyy\n",
      "Processing Record 324 | huarmey\n",
      "Processing Record 325 | nanortalik\n",
      "Processing Record 326 | riviere-au-renard\n",
      "Processing Record 327 | port hedland\n",
      "Processing Record 328 | la baule-escoublac\n",
      "Processing Record 329 | tocopilla\n",
      "Processing Record 330 | bac lieu\n",
      "Processing Record 331 | xinxiang\n",
      "Processing Record 332 | macapa\n",
      "Processing Record 333 | hsinchu\n",
      "Processing Record 334 | san miguel\n",
      "City not found. Skipping...\n",
      "City not found. Skipping...\n",
      "Processing Record 335 | soyo\n",
      "Processing Record 336 | gat\n",
      "Processing Record 337 | los llanos de aridane\n",
      "Processing Record 338 | birjand\n",
      "Processing Record 339 | ust-koksa\n",
      "Processing Record 340 | broken hill\n",
      "Processing Record 341 | zomin\n",
      "Processing Record 342 | kabanjahe\n",
      "Processing Record 343 | kiunga\n",
      "Processing Record 344 | porangatu\n",
      "Processing Record 345 | henties bay\n",
      "Processing Record 346 | wau\n",
      "Processing Record 347 | mogzon\n",
      "Processing Record 348 | saint-leu\n",
      "Processing Record 349 | mirabad\n",
      "Processing Record 350 | tautira\n",
      "Processing Record 351 | shimoda\n",
      "Processing Record 352 | matara\n",
      "City not found. Skipping...\n",
      "Processing Record 353 | mayo\n",
      "Processing Record 354 | tezu\n",
      "Processing Record 355 | poum\n",
      "City not found. Skipping...\n",
      "Processing Record 356 | coihaique\n",
      "Processing Record 357 | mangan\n",
      "Processing Record 358 | santa eulalia\n",
      "Processing Record 359 | maarianhamina\n",
      "Processing Record 360 | ozernovskiy\n",
      "Processing Record 361 | padang\n",
      "Processing Record 362 | merauke\n",
      "City not found. Skipping...\n",
      "Processing Record 363 | gazojak\n",
      "Processing Record 364 | omsukchan\n",
      "Processing Record 365 | mukhen\n",
      "Processing Record 366 | kuntaur\n",
      "Processing Record 367 | tukrah\n",
      "Processing Record 368 | khilok\n",
      "Processing Record 369 | kieta\n",
      "Processing Record 370 | meulaboh\n",
      "City not found. Skipping...\n",
      "Processing Record 371 | townsville\n",
      "Processing Record 372 | zhangye\n",
      "Processing Record 373 | illela\n",
      "Processing Record 374 | arlit\n",
      "Processing Record 375 | adamas\n",
      "Processing Record 376 | kupang\n",
      "Processing Record 377 | muli\n",
      "Processing Record 378 | braganca\n",
      "Processing Record 379 | broome\n",
      "Processing Record 380 | tucurui\n",
      "Processing Record 381 | mbini\n",
      "Processing Record 382 | constitucion\n",
      "Processing Record 383 | marovoay\n",
      "Processing Record 384 | excelsior springs\n",
      "Processing Record 385 | rocha\n",
      "Processing Record 386 | anloga\n",
      "Processing Record 387 | port lincoln\n",
      "Processing Record 388 | chicama\n",
      "Processing Record 389 | guanay\n",
      "Processing Record 390 | solana beach\n",
      "Processing Record 391 | ajaccio\n",
      "Processing Record 392 | natubleng\n",
      "Processing Record 393 | mount gambier\n",
      "Processing Record 394 | werdohl\n",
      "Processing Record 395 | rorvik\n",
      "Processing Record 396 | grand gaube\n",
      "Processing Record 397 | severo-kurilsk\n",
      "Processing Record 398 | maumere\n",
      "Processing Record 399 | alencon\n",
      "Processing Record 400 | ojinaga\n",
      "Processing Record 401 | dobric\n",
      "Processing Record 402 | serenje\n",
      "Processing Record 403 | cacu\n",
      "Processing Record 404 | camacupa\n",
      "Processing Record 405 | arak\n",
      "Processing Record 406 | salamanca\n",
      "Processing Record 407 | chingirlau\n",
      "Processing Record 408 | andilamena\n",
      "City not found. Skipping...\n",
      "Processing Record 409 | tongliao\n",
      "Processing Record 410 | kosh-agach\n",
      "Processing Record 411 | fujin\n",
      "Processing Record 412 | kloulklubed\n",
      "Processing Record 413 | dunhua\n",
      "Processing Record 414 | olafsvik\n",
      "Processing Record 415 | harper\n",
      "Processing Record 416 | fortuna\n",
      "Processing Record 417 | belaya gora\n",
      "Processing Record 418 | palana\n",
      "Processing Record 419 | nouadhibou\n",
      "Processing Record 420 | yeppoon\n",
      "Processing Record 421 | qiongshan\n",
      "Processing Record 422 | mongu\n",
      "Processing Record 423 | plettenberg bay\n",
      "Processing Record 424 | altayskoye\n",
      "Processing Record 425 | namibe\n",
      "Processing Record 426 | ahipara\n",
      "Processing Record 427 | nara\n",
      "Processing Record 428 | tessalit\n",
      "Processing Record 429 | saint-ambroise\n",
      "Processing Record 430 | bagan\n",
      "Processing Record 431 | chimbote\n",
      "Processing Record 432 | kalmunai\n",
      "Processing Record 433 | sitka\n",
      "Processing Record 434 | iskateley\n",
      "Processing Record 435 | sorland\n",
      "Processing Record 436 | pierre\n",
      "Processing Record 437 | crotone\n",
      "Processing Record 438 | mayskiy\n",
      "Processing Record 439 | logstor\n",
      "Processing Record 440 | huescar\n",
      "Processing Record 441 | roald\n",
      "Processing Record 442 | gbarnga\n",
      "Processing Record 443 | brae\n",
      "Processing Record 444 | grindavik\n",
      "Processing Record 445 | tuatapere\n",
      "Processing Record 446 | buerarema\n",
      "Processing Record 447 | colmar\n",
      "Processing Record 448 | snyder\n",
      "Processing Record 449 | vanimo\n",
      "Processing Record 450 | ulladulla\n",
      "Processing Record 451 | bedford\n",
      "Processing Record 452 | mwinilunga\n",
      "Processing Record 453 | pontes e lacerda\n",
      "Processing Record 454 | watertown\n",
      "Processing Record 455 | halifax\n",
      "Processing Record 456 | patacamaya\n",
      "Processing Record 457 | chimore\n",
      "Processing Record 458 | sydney mines\n",
      "Processing Record 459 | ivankiv\n",
      "Processing Record 460 | havre-saint-pierre\n",
      "Processing Record 461 | alice springs\n",
      "Processing Record 462 | jalu\n",
      "Processing Record 463 | pisco\n"
     ]
    },
    {
     "name": "stdout",
     "output_type": "stream",
     "text": [
      "Processing Record 464 | alugan\n",
      "Processing Record 465 | cascais\n",
      "Processing Record 466 | dudinka\n",
      "Processing Record 467 | nova vicosa\n",
      "City not found. Skipping...\n",
      "City not found. Skipping...\n",
      "Processing Record 468 | kapuskasing\n",
      "Processing Record 469 | nishihara\n",
      "Processing Record 470 | benemerito de las americas\n",
      "Processing Record 471 | payo\n",
      "Processing Record 472 | rajauri\n",
      "City not found. Skipping...\n",
      "City not found. Skipping...\n",
      "Processing Record 473 | goma\n",
      "Processing Record 474 | dandong\n",
      "Processing Record 475 | jaunjelgava\n",
      "Processing Record 476 | abonnema\n",
      "Processing Record 477 | dondo\n",
      "City not found. Skipping...\n",
      "Processing Record 478 | puerto carreno\n",
      "Processing Record 479 | mirnyy\n",
      "Processing Record 480 | kangaatsiaq\n",
      "Processing Record 481 | ahuimanu\n",
      "Processing Record 482 | kawalu\n",
      "Processing Record 483 | yakima\n",
      "City not found. Skipping...\n",
      "Processing Record 484 | saint-francois\n",
      "Processing Record 485 | pioner\n",
      "Processing Record 486 | corinto\n",
      "Processing Record 487 | yenagoa\n",
      "Processing Record 488 | uyuni\n",
      "Processing Record 489 | srednekolymsk\n",
      "Processing Record 490 | neyshabur\n",
      "Processing Record 491 | hauterive\n",
      "City not found. Skipping...\n",
      "Processing Record 492 | emerald\n",
      "Processing Record 493 | namwala\n",
      "Processing Record 494 | beringovskiy\n",
      "Processing Record 495 | west bay\n",
      "Processing Record 496 | heinola\n",
      "City not found. Skipping...\n",
      "Processing Record 497 | lappeenranta\n",
      "Processing Record 498 | calama\n",
      "Processing Record 499 | englewood\n",
      "Processing Record 500 | hailey\n",
      "Processing Record 501 | luorong\n",
      "Processing Record 502 | santa isabel do rio negro\n",
      "Processing Record 503 | alappuzha\n",
      "Processing Record 504 | lensk\n",
      "Processing Record 505 | ringe\n",
      "Processing Record 506 | whitehorse\n",
      "Processing Record 507 | kijang\n",
      "Processing Record 508 | redcar\n",
      "City not found. Skipping...\n",
      "Processing Record 509 | yinchuan\n",
      "Processing Record 510 | rahuri\n",
      "Processing Record 511 | khuzdar\n",
      "City not found. Skipping...\n",
      "Processing Record 512 | kamaishi\n",
      "Processing Record 513 | verneuil-sur-seine\n",
      "Processing Record 514 | pasil\n",
      "Processing Record 515 | turukhansk\n",
      "City not found. Skipping...\n",
      "Processing Record 516 | karasburg\n",
      "Processing Record 517 | mizdah\n",
      "Processing Record 518 | robertsport\n",
      "Processing Record 519 | cayenne\n",
      "Processing Record 520 | burnie\n",
      "Processing Record 521 | springbok\n",
      "Processing Record 522 | itaituba\n",
      "Processing Record 523 | ukiah\n",
      "City not found. Skipping...\n",
      "City not found. Skipping...\n",
      "Processing Record 524 | talara\n",
      "Processing Record 525 | portland\n",
      "Processing Record 526 | manadhoo\n",
      "Processing Record 527 | ampanihy\n",
      "Processing Record 528 | dalvik\n",
      "Processing Record 529 | masyaf\n",
      "Processing Record 530 | doha\n",
      "Processing Record 531 | siuna\n",
      "Processing Record 532 | maltahohe\n",
      "Processing Record 533 | beaumont\n",
      "Processing Record 534 | port keats\n",
      "City not found. Skipping...\n",
      "Processing Record 535 | port-gentil\n",
      "City not found. Skipping...\n",
      "Processing Record 536 | dunedin\n",
      "Processing Record 537 | korsakovo\n",
      "Processing Record 538 | nosy varika\n",
      "City not found. Skipping...\n",
      "Processing Record 539 | la primavera\n",
      "City not found. Skipping...\n",
      "Processing Record 540 | puerto varas\n",
      "Processing Record 541 | dentsville\n",
      "City not found. Skipping...\n",
      "Processing Record 542 | margate\n",
      "Processing Record 543 | raudeberg\n",
      "Processing Record 544 | belmonte\n",
      "Processing Record 545 | baracoa\n",
      "Processing Record 546 | saint-georges\n",
      "-----------------------------\n"
     ]
    }
   ],
   "source": [
    "# Save config information.\n",
    "url = \"http://api.openweathermap.org/data/2.5/weather?\"\n",
    "units = \"metric\"\n",
    "\n",
    "# Build partial query URL\n",
    "query_url = f\"{url}appid={weather_api_key}&units={units}&q=\"\n",
    "\n",
    "# set up lists to hold reponse info\n",
    "citylist = []\n",
    "lat = []\n",
    "long = []\n",
    "maxtemp = []\n",
    "humidity = []\n",
    "cloudiness = []\n",
    "wind = []\n",
    "country = []\n",
    "date = []\n",
    "count = 0\n",
    "\n",
    "# Begin Print Log\n",
    "print(f\"Beginning Data Retrieval\")   \n",
    "print(f\"-----------------------------\")\n",
    "\n",
    "# Loop through the list of cities and perform a request for data on each\n",
    "for city in cities:\n",
    "    response = requests.get(query_url + city).json()\n",
    "    try:\n",
    "        citylist.append(response['name'])\n",
    "        lat.append(response['coord']['lat'])\n",
    "        long.append(response['coord']['lon'])\n",
    "        maxtemp.append(response['main']['temp_max'])\n",
    "        humidity.append(response['main']['humidity'])\n",
    "        cloudiness.append(response['clouds']['all'])\n",
    "        wind.append(response['wind']['speed'])\n",
    "        country.append(response['sys']['country'])\n",
    "        date.append(response['dt'])\n",
    "        count = count + 1\n",
    "        print(f\"Processing Record {count} | {city}\")\n",
    "    except:\n",
    "        print(f\"City not found. Skipping...\")\n",
    "        pass\n",
    "    \n",
    "print(f\"-----------------------------\")"
   ]
  },
  {
   "cell_type": "markdown",
   "metadata": {},
   "source": [
    "### Convert Raw Data to DataFrame\n",
    "* Export the city data into a .csv.\n",
    "* Display the DataFrame"
   ]
  },
  {
   "cell_type": "code",
   "execution_count": 23,
   "metadata": {},
   "outputs": [],
   "source": [
    "# Create a data frame\n",
    "weather_dict = {\n",
    "    \"City\": citylist,\n",
    "    \"Lat\": lat,\n",
    "    \"Lng\": long,\n",
    "    \"Max Temp\": maxtemp,\n",
    "    \"Humidity\": humidity,\n",
    "    \"Cloudiness\": cloudiness,\n",
    "    \"Wind Speed\": wind,\n",
    "    \"Country\": country,\n",
    "    \"Date\": date\n",
    "}\n",
    "weather_data = pd.DataFrame(weather_dict)\n",
    "weather_data.head()\n",
    "\n",
    "# Export data frame as a CSV file\n",
    "weather_data.to_csv(output_data_file, index=False, header=True)"
   ]
  },
  {
   "cell_type": "code",
   "execution_count": 24,
   "metadata": {},
   "outputs": [
    {
     "data": {
      "text/html": [
       "<div>\n",
       "<style scoped>\n",
       "    .dataframe tbody tr th:only-of-type {\n",
       "        vertical-align: middle;\n",
       "    }\n",
       "\n",
       "    .dataframe tbody tr th {\n",
       "        vertical-align: top;\n",
       "    }\n",
       "\n",
       "    .dataframe thead th {\n",
       "        text-align: right;\n",
       "    }\n",
       "</style>\n",
       "<table border=\"1\" class=\"dataframe\">\n",
       "  <thead>\n",
       "    <tr style=\"text-align: right;\">\n",
       "      <th></th>\n",
       "      <th>Lat</th>\n",
       "      <th>Lng</th>\n",
       "      <th>Max Temp</th>\n",
       "      <th>Humidity</th>\n",
       "      <th>Cloudiness</th>\n",
       "      <th>Wind Speed</th>\n",
       "      <th>Date</th>\n",
       "    </tr>\n",
       "  </thead>\n",
       "  <tbody>\n",
       "    <tr>\n",
       "      <th>count</th>\n",
       "      <td>546.000000</td>\n",
       "      <td>546.000000</td>\n",
       "      <td>546.000000</td>\n",
       "      <td>546.000000</td>\n",
       "      <td>546.000000</td>\n",
       "      <td>546.000000</td>\n",
       "      <td>5.460000e+02</td>\n",
       "    </tr>\n",
       "    <tr>\n",
       "      <th>mean</th>\n",
       "      <td>20.355606</td>\n",
       "      <td>13.469967</td>\n",
       "      <td>13.175714</td>\n",
       "      <td>73.739927</td>\n",
       "      <td>57.313187</td>\n",
       "      <td>3.378993</td>\n",
       "      <td>1.616725e+09</td>\n",
       "    </tr>\n",
       "    <tr>\n",
       "      <th>std</th>\n",
       "      <td>33.075114</td>\n",
       "      <td>90.259029</td>\n",
       "      <td>13.697513</td>\n",
       "      <td>20.928409</td>\n",
       "      <td>39.626037</td>\n",
       "      <td>2.277594</td>\n",
       "      <td>9.086446e+01</td>\n",
       "    </tr>\n",
       "    <tr>\n",
       "      <th>min</th>\n",
       "      <td>-54.800000</td>\n",
       "      <td>-179.166700</td>\n",
       "      <td>-33.080000</td>\n",
       "      <td>8.000000</td>\n",
       "      <td>0.000000</td>\n",
       "      <td>0.070000</td>\n",
       "      <td>1.616725e+09</td>\n",
       "    </tr>\n",
       "    <tr>\n",
       "      <th>25%</th>\n",
       "      <td>-6.196250</td>\n",
       "      <td>-67.386725</td>\n",
       "      <td>5.727500</td>\n",
       "      <td>65.000000</td>\n",
       "      <td>15.250000</td>\n",
       "      <td>1.572500</td>\n",
       "      <td>1.616725e+09</td>\n",
       "    </tr>\n",
       "    <tr>\n",
       "      <th>50%</th>\n",
       "      <td>27.028950</td>\n",
       "      <td>12.531150</td>\n",
       "      <td>17.180000</td>\n",
       "      <td>78.000000</td>\n",
       "      <td>75.000000</td>\n",
       "      <td>2.955000</td>\n",
       "      <td>1.616725e+09</td>\n",
       "    </tr>\n",
       "    <tr>\n",
       "      <th>75%</th>\n",
       "      <td>47.344025</td>\n",
       "      <td>89.831750</td>\n",
       "      <td>24.000000</td>\n",
       "      <td>89.000000</td>\n",
       "      <td>98.000000</td>\n",
       "      <td>4.690000</td>\n",
       "      <td>1.616725e+09</td>\n",
       "    </tr>\n",
       "    <tr>\n",
       "      <th>max</th>\n",
       "      <td>78.218600</td>\n",
       "      <td>179.316700</td>\n",
       "      <td>32.220000</td>\n",
       "      <td>100.000000</td>\n",
       "      <td>100.000000</td>\n",
       "      <td>18.520000</td>\n",
       "      <td>1.616725e+09</td>\n",
       "    </tr>\n",
       "  </tbody>\n",
       "</table>\n",
       "</div>"
      ],
      "text/plain": [
       "              Lat         Lng    Max Temp    Humidity  Cloudiness  Wind Speed  \\\n",
       "count  546.000000  546.000000  546.000000  546.000000  546.000000  546.000000   \n",
       "mean    20.355606   13.469967   13.175714   73.739927   57.313187    3.378993   \n",
       "std     33.075114   90.259029   13.697513   20.928409   39.626037    2.277594   \n",
       "min    -54.800000 -179.166700  -33.080000    8.000000    0.000000    0.070000   \n",
       "25%     -6.196250  -67.386725    5.727500   65.000000   15.250000    1.572500   \n",
       "50%     27.028950   12.531150   17.180000   78.000000   75.000000    2.955000   \n",
       "75%     47.344025   89.831750   24.000000   89.000000   98.000000    4.690000   \n",
       "max     78.218600  179.316700   32.220000  100.000000  100.000000   18.520000   \n",
       "\n",
       "               Date  \n",
       "count  5.460000e+02  \n",
       "mean   1.616725e+09  \n",
       "std    9.086446e+01  \n",
       "min    1.616725e+09  \n",
       "25%    1.616725e+09  \n",
       "50%    1.616725e+09  \n",
       "75%    1.616725e+09  \n",
       "max    1.616725e+09  "
      ]
     },
     "execution_count": 24,
     "metadata": {},
     "output_type": "execute_result"
    }
   ],
   "source": [
    "# Display statistics on data frame\n",
    "weather_data.describe()"
   ]
  },
  {
   "cell_type": "markdown",
   "metadata": {},
   "source": [
    "## Inspect the data and remove the cities where the humidity > 100%.\n",
    "----\n",
    "Skip this step if there are no cities that have humidity > 100%. "
   ]
  },
  {
   "cell_type": "code",
   "execution_count": 25,
   "metadata": {},
   "outputs": [],
   "source": [
    "too_humid = weather_data.loc[weather_data[\"Humidity\"] > 100]"
   ]
  },
  {
   "cell_type": "code",
   "execution_count": 26,
   "metadata": {},
   "outputs": [],
   "source": [
    "#  Get the indices of cities that have humidity over 100%.\n",
    "too_humid_list = list(too_humid.index)"
   ]
  },
  {
   "cell_type": "code",
   "execution_count": 27,
   "metadata": {},
   "outputs": [],
   "source": [
    "# Make a new DataFrame equal to the city data to drop all humidity outliers by index.\n",
    "# Passing \"inplace=False\" will make a copy of the city_data DataFrame, which we call \"clean_city_data\".\n",
    "clean_city_data = weather_data.drop(too_humid_list, inplace = False)"
   ]
  },
  {
   "cell_type": "code",
   "execution_count": 71,
   "metadata": {},
   "outputs": [
    {
     "data": {
      "text/html": [
       "<div>\n",
       "<style scoped>\n",
       "    .dataframe tbody tr th:only-of-type {\n",
       "        vertical-align: middle;\n",
       "    }\n",
       "\n",
       "    .dataframe tbody tr th {\n",
       "        vertical-align: top;\n",
       "    }\n",
       "\n",
       "    .dataframe thead th {\n",
       "        text-align: right;\n",
       "    }\n",
       "</style>\n",
       "<table border=\"1\" class=\"dataframe\">\n",
       "  <thead>\n",
       "    <tr style=\"text-align: right;\">\n",
       "      <th></th>\n",
       "      <th>City</th>\n",
       "      <th>Lat</th>\n",
       "      <th>Lng</th>\n",
       "      <th>Max Temp</th>\n",
       "      <th>Humidity</th>\n",
       "      <th>Cloudiness</th>\n",
       "      <th>Wind Speed</th>\n",
       "      <th>Country</th>\n",
       "      <th>Date</th>\n",
       "    </tr>\n",
       "  </thead>\n",
       "  <tbody>\n",
       "    <tr>\n",
       "      <th>0</th>\n",
       "      <td>Vaini</td>\n",
       "      <td>-21.2000</td>\n",
       "      <td>-175.2000</td>\n",
       "      <td>29.00</td>\n",
       "      <td>79</td>\n",
       "      <td>75</td>\n",
       "      <td>5.14</td>\n",
       "      <td>TO</td>\n",
       "      <td>1616724983</td>\n",
       "    </tr>\n",
       "    <tr>\n",
       "      <th>1</th>\n",
       "      <td>Lüderitz</td>\n",
       "      <td>-26.6481</td>\n",
       "      <td>15.1594</td>\n",
       "      <td>16.09</td>\n",
       "      <td>97</td>\n",
       "      <td>32</td>\n",
       "      <td>2.89</td>\n",
       "      <td>NA</td>\n",
       "      <td>1616724983</td>\n",
       "    </tr>\n",
       "    <tr>\n",
       "      <th>2</th>\n",
       "      <td>Rikitea</td>\n",
       "      <td>-23.1203</td>\n",
       "      <td>-134.9692</td>\n",
       "      <td>26.66</td>\n",
       "      <td>72</td>\n",
       "      <td>100</td>\n",
       "      <td>8.52</td>\n",
       "      <td>PF</td>\n",
       "      <td>1616724984</td>\n",
       "    </tr>\n",
       "    <tr>\n",
       "      <th>3</th>\n",
       "      <td>Ushuaia</td>\n",
       "      <td>-54.8000</td>\n",
       "      <td>-68.3000</td>\n",
       "      <td>6.00</td>\n",
       "      <td>75</td>\n",
       "      <td>40</td>\n",
       "      <td>9.26</td>\n",
       "      <td>AR</td>\n",
       "      <td>1616724930</td>\n",
       "    </tr>\n",
       "    <tr>\n",
       "      <th>4</th>\n",
       "      <td>Chapais</td>\n",
       "      <td>49.7834</td>\n",
       "      <td>-74.8492</td>\n",
       "      <td>-2.00</td>\n",
       "      <td>93</td>\n",
       "      <td>90</td>\n",
       "      <td>4.12</td>\n",
       "      <td>CA</td>\n",
       "      <td>1616724984</td>\n",
       "    </tr>\n",
       "  </tbody>\n",
       "</table>\n",
       "</div>"
      ],
      "text/plain": [
       "       City      Lat       Lng  Max Temp  Humidity  Cloudiness  Wind Speed  \\\n",
       "0     Vaini -21.2000 -175.2000     29.00        79          75        5.14   \n",
       "1  Lüderitz -26.6481   15.1594     16.09        97          32        2.89   \n",
       "2   Rikitea -23.1203 -134.9692     26.66        72         100        8.52   \n",
       "3   Ushuaia -54.8000  -68.3000      6.00        75          40        9.26   \n",
       "4   Chapais  49.7834  -74.8492     -2.00        93          90        4.12   \n",
       "\n",
       "  Country        Date  \n",
       "0      TO  1616724983  \n",
       "1      NA  1616724983  \n",
       "2      PF  1616724984  \n",
       "3      AR  1616724930  \n",
       "4      CA  1616724984  "
      ]
     },
     "execution_count": 71,
     "metadata": {},
     "output_type": "execute_result"
    }
   ],
   "source": [
    "clean_city_data.head()"
   ]
  },
  {
   "cell_type": "markdown",
   "metadata": {},
   "source": [
    "## Plotting the Data\n",
    "* Use proper labeling of the plots using plot titles (including date of analysis) and axes labels.\n",
    "* Save the plotted figures as .pngs."
   ]
  },
  {
   "cell_type": "markdown",
   "metadata": {},
   "source": [
    "## Latitude vs. Temperature Plot"
   ]
  },
  {
   "cell_type": "code",
   "execution_count": 72,
   "metadata": {},
   "outputs": [],
   "source": [
    "# Index for saving plots. All plot code needs to be executed in order in order to update index.\n",
    "plot_count = 0"
   ]
  },
  {
   "cell_type": "code",
   "execution_count": 73,
   "metadata": {
    "scrolled": true
   },
   "outputs": [
    {
     "data": {
      "image/png": "[encoded data removed]",
      "text/plain": [
       "<Figure size 432x288 with 1 Axes>"
      ]
     },
     "metadata": {
      "needs_background": "light"
     },
     "output_type": "display_data"
    }
   ],
   "source": [
    "x_values = clean_city_data['Lat']\n",
    "y_values = clean_city_data['Max Temp']\n",
    "plt.scatter(x_values,y_values)\n",
    "plt.xlabel('Latitude')\n",
    "plt.ylabel('Max Temperature (Celsius)')\n",
    "plt.title('Latitude vs. Max Temperature (Celsius)')\n",
    "# Update index and save plot with index in name\n",
    "plot_count = plot_count + 1\n",
    "plt.savefig(f\"output_data/plot{plot_count}.png\")\n",
    "plt.show()"
   ]
  },
  {
   "cell_type": "markdown",
   "metadata": {},
   "source": [
    "## Latitude vs. Humidity Plot"
   ]
  },
  {
   "cell_type": "code",
   "execution_count": 74,
   "metadata": {},
   "outputs": [
    {
     "data": {
      "image/png": "[encoded data removed]",
      "text/plain": [
       "<Figure size 432x288 with 1 Axes>"
      ]
     },
     "metadata": {
      "needs_background": "light"
     },
     "output_type": "display_data"
    }
   ],
   "source": [
    "x_values = clean_city_data['Lat']\n",
    "y_values = clean_city_data['Humidity']\n",
    "plt.scatter(x_values,y_values)\n",
    "plt.xlabel('Latitude')\n",
    "plt.ylabel('Humidity (%)')\n",
    "plt.title('Latitude vs. Humidity (%)')\n",
    "plot_count = plot_count + 1\n",
    "plt.savefig(f\"output_data/plot{plot_count}.png\")\n",
    "plt.show()"
   ]
  },
  {
   "cell_type": "markdown",
   "metadata": {},
   "source": [
    "## Latitude vs. Cloudiness Plot"
   ]
  },
  {
   "cell_type": "code",
   "execution_count": 75,
   "metadata": {},
   "outputs": [
    {
     "data": {
      "image/png": "[encoded data removed]",
      "text/plain": [
       "<Figure size 432x288 with 1 Axes>"
      ]
     },
     "metadata": {
      "needs_background": "light"
     },
     "output_type": "display_data"
    }
   ],
   "source": [
    "x_values = clean_city_data['Lat']\n",
    "y_values = clean_city_data['Cloudiness']\n",
    "plt.scatter(x_values,y_values)\n",
    "plt.xlabel('Latitude')\n",
    "plt.ylabel('Cloudiness (%)')\n",
    "plt.title('Latitude vs. Cloudiness (%)')\n",
    "plot_count = plot_count + 1\n",
    "plt.savefig(f\"output_data/plot{plot_count}.png\")\n",
    "plt.show()"
   ]
  },
  {
   "cell_type": "markdown",
   "metadata": {},
   "source": [
    "## Latitude vs. Wind Speed Plot"
   ]
  },
  {
   "cell_type": "code",
   "execution_count": 76,
   "metadata": {},
   "outputs": [
    {
     "data": {
      "image/png": "[encoded data removed]",
      "text/plain": [
       "<Figure size 432x288 with 1 Axes>"
      ]
     },
     "metadata": {
      "needs_background": "light"
     },
     "output_type": "display_data"
    }
   ],
   "source": [
    "x_values = clean_city_data['Lat']\n",
    "y_values = clean_city_data['Wind Speed']\n",
    "plt.scatter(x_values,y_values)\n",
    "plt.xlabel('Latitude')\n",
    "plt.ylabel('Wind Speed (meter/sec)')\n",
    "plt.title('Latitude vs. Wind Speed (meter/sec)')\n",
    "plot_count = plot_count + 1\n",
    "plt.savefig(f\"output_data/plot{plot_count}.png\")\n",
    "plt.show()"
   ]
  },
  {
   "cell_type": "markdown",
   "metadata": {},
   "source": [
    "## Linear Regression"
   ]
  },
  {
   "cell_type": "code",
   "execution_count": 77,
   "metadata": {},
   "outputs": [],
   "source": [
    "northern_hemisphere = clean_city_data.loc[clean_city_data[\"Lat\"] >= 0]\n",
    "southern_hemisphere = clean_city_data.loc[clean_city_data[\"Lat\"] < 0]"
   ]
  },
  {
   "cell_type": "markdown",
   "metadata": {},
   "source": [
    "####  Northern Hemisphere - Max Temp vs. Latitude Linear Regression"
   ]
  },
  {
   "cell_type": "code",
   "execution_count": 78,
   "metadata": {},
   "outputs": [
    {
     "name": "stdout",
     "output_type": "stream",
     "text": [
      "The r-value is: 0.7938697515277817\n"
     ]
    },
    {
     "data": {
      "image/png": "[encoded data removed]",
      "text/plain": [
       "<Figure size 432x288 with 1 Axes>"
      ]
     },
     "metadata": {
      "needs_background": "light"
     },
     "output_type": "display_data"
    }
   ],
   "source": [
    "# Set data to x and y axes\n",
    "x_values = northern_hemisphere['Lat']\n",
    "y_values = northern_hemisphere['Max Temp']\n",
    "\n",
    "# Perform a linear regression on temperature vs. latitude\n",
    "(slope, intercept, rvalue, pvalue, stderr) = linregress(x_values, y_values)\n",
    "\n",
    "# Get regression values\n",
    "regress_values = x_values * slope + intercept\n",
    "\n",
    "# Create line equation string\n",
    "line_eq = \"y = \" + str(round(slope,2)) + \"x +\" + str(round(intercept,2))\n",
    "\n",
    "# Print r value\n",
    "print(f\"The r-value is: {rvalue**2}\")\n",
    "\n",
    "# Create scatter plot with linear regression\n",
    "plt.scatter(x_values,y_values)\n",
    "plt.plot(x_values,regress_values,\"r-\")\n",
    "plt.xlabel('Latitude')\n",
    "plt.ylabel('Max Temperature (Celsius)')\n",
    "plt.title('Northern Hemisphere - Latitude vs. Max Temperature (Celsius)')\n",
    "plt.annotate(line_eq,(10,-10),fontsize=15,color=\"red\")\n",
    "plot_count = plot_count + 1\n",
    "plt.savefig(f\"output_data/plot{plot_count}.png\")\n",
    "plt.show()"
   ]
  },
  {
   "cell_type": "markdown",
   "metadata": {},
   "source": [
    "####  Southern Hemisphere - Max Temp vs. Latitude Linear Regression"
   ]
  },
  {
   "cell_type": "code",
   "execution_count": 79,
   "metadata": {},
   "outputs": [
    {
     "name": "stdout",
     "output_type": "stream",
     "text": [
      "The r-value is: 0.2903625818280657\n"
     ]
    },
    {
     "data": {
      "image/png": "[encoded data removed]",
      "text/plain": [
       "<Figure size 432x288 with 1 Axes>"
      ]
     },
     "metadata": {
      "needs_background": "light"
     },
     "output_type": "display_data"
    }
   ],
   "source": [
    "# Set data to x and y axes\n",
    "x_values = southern_hemisphere['Lat']\n",
    "y_values = southern_hemisphere['Max Temp']\n",
    "\n",
    "# Perform a linear regression on temperature vs. latitude\n",
    "(slope, intercept, rvalue, pvalue, stderr) = linregress(x_values, y_values)\n",
    "\n",
    "# Get regression values\n",
    "regress_values = x_values * slope + intercept\n",
    "\n",
    "# Create line equation string\n",
    "line_eq = \"y = \" + str(round(slope,2)) + \"x +\" + str(round(intercept,2))\n",
    "\n",
    "# Print r value\n",
    "print(f\"The r-value is: {rvalue**2}\")\n",
    "\n",
    "# Create scatter plot with linear regression\n",
    "plt.scatter(x_values,y_values)\n",
    "plt.plot(x_values,regress_values,\"r-\")\n",
    "plt.xlabel('Latitude')\n",
    "plt.ylabel('Max Temperature (Celsius)')\n",
    "plt.title('Southern Hemisphere - Latitude vs. Max Temperature (Celsius)')\n",
    "plt.annotate(line_eq,(-50,30),fontsize=15,color=\"red\")\n",
    "plot_count = plot_count + 1\n",
    "plt.savefig(f\"output_data/plot{plot_count}.png\")\n",
    "plt.show()"
   ]
  },
  {
   "cell_type": "markdown",
   "metadata": {},
   "source": [
    "####  Northern Hemisphere - Humidity (%) vs. Latitude Linear Regression"
   ]
  },
  {
   "cell_type": "code",
   "execution_count": 80,
   "metadata": {},
   "outputs": [
    {
     "name": "stdout",
     "output_type": "stream",
     "text": [
      "The r-value is: 0.04786195162525703\n"
     ]
    },
    {
     "data": {
      "image/png": "[encoded data removed]",
      "text/plain": [
       "<Figure size 432x288 with 1 Axes>"
      ]
     },
     "metadata": {
      "needs_background": "light"
     },
     "output_type": "display_data"
    }
   ],
   "source": [
    "# Set data to x and y axes\n",
    "x_values = northern_hemisphere['Lat']\n",
    "y_values = northern_hemisphere['Humidity']\n",
    "\n",
    "# Perform a linear regression on temperature vs. latitude\n",
    "(slope, intercept, rvalue, pvalue, stderr) = linregress(x_values, y_values)\n",
    "\n",
    "# Get regression values\n",
    "regress_values = x_values * slope + intercept\n",
    "\n",
    "# Create line equation string\n",
    "line_eq = \"y = \" + str(round(slope,2)) + \"x +\" + str(round(intercept,2))\n",
    "\n",
    "# Print r value\n",
    "print(f\"The r-value is: {rvalue**2}\")\n",
    "\n",
    "# Create scatter plot with linear regression\n",
    "plt.scatter(x_values,y_values)\n",
    "plt.plot(x_values,regress_values,\"r-\")\n",
    "plt.xlabel('Latitude')\n",
    "plt.ylabel('Humidity (%)')\n",
    "plt.title('Northern Hemisphere - Latitude vs. Humidity (%)')\n",
    "plt.annotate(line_eq,(40,20),fontsize=15,color=\"red\")\n",
    "plot_count = plot_count + 1\n",
    "plt.savefig(f\"output_data/plot{plot_count}.png\")\n",
    "plt.show()"
   ]
  },
  {
   "cell_type": "markdown",
   "metadata": {},
   "source": [
    "####  Southern Hemisphere - Humidity (%) vs. Latitude Linear Regression"
   ]
  },
  {
   "cell_type": "code",
   "execution_count": 81,
   "metadata": {},
   "outputs": [
    {
     "name": "stdout",
     "output_type": "stream",
     "text": [
      "The r-value is: 0.06558290558696893\n"
     ]
    },
    {
     "data": {
      "image/png": "[encoded data removed]",
      "text/plain": [
       "<Figure size 432x288 with 1 Axes>"
      ]
     },
     "metadata": {
      "needs_background": "light"
     },
     "output_type": "display_data"
    }
   ],
   "source": [
    "# Set data to x and y axes\n",
    "x_values = southern_hemisphere['Lat']\n",
    "y_values = southern_hemisphere['Humidity']\n",
    "\n",
    "# Perform a linear regression on temperature vs. latitude\n",
    "(slope, intercept, rvalue, pvalue, stderr) = linregress(x_values, y_values)\n",
    "\n",
    "# Get regression values\n",
    "regress_values = x_values * slope + intercept\n",
    "\n",
    "# Create line equation string\n",
    "line_eq = \"y = \" + str(round(slope,2)) + \"x +\" + str(round(intercept,2))\n",
    "\n",
    "# Print r value\n",
    "print(f\"The r-value is: {rvalue**2}\")\n",
    "\n",
    "# Create scatter plot with linear regression\n",
    "plt.scatter(x_values,y_values)\n",
    "plt.plot(x_values,regress_values,\"r-\")\n",
    "plt.xlabel('Latitude')\n",
    "plt.ylabel('Humidity (%)')\n",
    "plt.title('Southern Hemisphere - Latitude vs. Humidity (%)')\n",
    "plt.annotate(line_eq,(-50,20),fontsize=15,color=\"red\")\n",
    "plot_count = plot_count + 1\n",
    "plt.savefig(f\"output_data/plot{plot_count}.png\")\n",
    "plt.show()"
   ]
  },
  {
   "cell_type": "markdown",
   "metadata": {},
   "source": [
    "####  Northern Hemisphere - Cloudiness (%) vs. Latitude Linear Regression"
   ]
  },
  {
   "cell_type": "code",
   "execution_count": 82,
   "metadata": {},
   "outputs": [
    {
     "name": "stdout",
     "output_type": "stream",
     "text": [
      "The r-value is: 0.07123618006705895\n"
     ]
    },
    {
     "data": {
      "image/png": "[encoded data removed]",
      "text/plain": [
       "<Figure size 432x288 with 1 Axes>"
      ]
     },
     "metadata": {
      "needs_background": "light"
     },
     "output_type": "display_data"
    }
   ],
   "source": [
    "# Set data to x and y axes\n",
    "x_values = northern_hemisphere['Lat']\n",
    "y_values = northern_hemisphere['Cloudiness']\n",
    "\n",
    "# Perform a linear regression on temperature vs. latitude\n",
    "(slope, intercept, rvalue, pvalue, stderr) = linregress(x_values, y_values)\n",
    "\n",
    "# Get regression values\n",
    "regress_values = x_values * slope + intercept\n",
    "\n",
    "# Create line equation string\n",
    "line_eq = \"y = \" + str(round(slope,2)) + \"x +\" + str(round(intercept,2))\n",
    "\n",
    "# Print r value\n",
    "print(f\"The r-value is: {rvalue**2}\")\n",
    "\n",
    "# Create scatter plot with linear regression\n",
    "plt.scatter(x_values,y_values)\n",
    "plt.plot(x_values,regress_values,\"r-\")\n",
    "plt.xlabel('Latitude')\n",
    "plt.ylabel('Cloudiness (%)')\n",
    "plt.title('Northern Hemisphere - Latitude vs. Cloudiness (%)')\n",
    "plt.annotate(line_eq,(40,20),fontsize=15,color=\"red\")\n",
    "plot_count = plot_count + 1\n",
    "plt.savefig(f\"output_data/plot{plot_count}.png\")\n",
    "plt.show()"
   ]
  },
  {
   "cell_type": "markdown",
   "metadata": {},
   "source": [
    "####  Southern Hemisphere - Cloudiness (%) vs. Latitude Linear Regression"
   ]
  },
  {
   "cell_type": "code",
   "execution_count": 83,
   "metadata": {},
   "outputs": [
    {
     "name": "stdout",
     "output_type": "stream",
     "text": [
      "The r-value is: 0.03516151792383552\n"
     ]
    },
    {
     "data": {
      "image/png": "[encoded data removed]",
      "text/plain": [
       "<Figure size 432x288 with 1 Axes>"
      ]
     },
     "metadata": {
      "needs_background": "light"
     },
     "output_type": "display_data"
    }
   ],
   "source": [
    "# Set data to x and y axes\n",
    "x_values = southern_hemisphere['Lat']\n",
    "y_values = southern_hemisphere['Cloudiness']\n",
    "\n",
    "# Perform a linear regression on temperature vs. latitude\n",
    "(slope, intercept, rvalue, pvalue, stderr) = linregress(x_values, y_values)\n",
    "\n",
    "# Get regression values\n",
    "regress_values = x_values * slope + intercept\n",
    "\n",
    "# Create line equation string\n",
    "line_eq = \"y = \" + str(round(slope,2)) + \"x +\" + str(round(intercept,2))\n",
    "\n",
    "# Print r value\n",
    "print(f\"The r-value is: {rvalue**2}\")\n",
    "\n",
    "# Create scatter plot with linear regression\n",
    "plt.scatter(x_values,y_values)\n",
    "plt.plot(x_values,regress_values,\"r-\")\n",
    "plt.xlabel('Latitude')\n",
    "plt.ylabel('Cloudiness (%)')\n",
    "plt.title('Southern Hemisphere - Latitude vs. Cloudiness (%)')\n",
    "plt.annotate(line_eq,(-50,20),fontsize=15,color=\"red\")\n",
    "plot_count = plot_count + 1\n",
    "plt.savefig(f\"output_data/plot{plot_count}.png\")\n",
    "plt.show()"
   ]
  },
  {
   "cell_type": "markdown",
   "metadata": {},
   "source": [
    "####  Northern Hemisphere - Wind Speed (mph) vs. Latitude Linear Regression"
   ]
  },
  {
   "cell_type": "code",
   "execution_count": 84,
   "metadata": {},
   "outputs": [
    {
     "name": "stdout",
     "output_type": "stream",
     "text": [
      "The r-value is: 0.024285473276330596\n"
     ]
    },
    {
     "data": {
      "image/png": "[encoded data removed]",
      "text/plain": [
       "<Figure size 432x288 with 1 Axes>"
      ]
     },
     "metadata": {
      "needs_background": "light"
     },
     "output_type": "display_data"
    }
   ],
   "source": [
    "# Set data to x and y axes\n",
    "x_values = northern_hemisphere['Lat']\n",
    "y_values = northern_hemisphere['Wind Speed']\n",
    "\n",
    "# Perform a linear regression on temperature vs. latitude\n",
    "(slope, intercept, rvalue, pvalue, stderr) = linregress(x_values, y_values)\n",
    "\n",
    "# Get regression values\n",
    "regress_values = x_values * slope + intercept\n",
    "\n",
    "# Create line equation string\n",
    "line_eq = \"y = \" + str(round(slope,2)) + \"x +\" + str(round(intercept,2))\n",
    "\n",
    "# Print r value\n",
    "print(f\"The r-value is: {rvalue**2}\")\n",
    "\n",
    "# Create scatter plot with linear regression\n",
    "plt.scatter(x_values,y_values)\n",
    "plt.plot(x_values,regress_values,\"r-\")\n",
    "plt.xlabel('Latitude')\n",
    "plt.ylabel('Wind Speed (meter/sec)')\n",
    "plt.title('Northern Hemisphere - Latitude vs. Wind Speed (meter/sec)')\n",
    "plt.annotate(line_eq,(0,10),fontsize=15,color=\"red\")\n",
    "plot_count = plot_count + 1\n",
    "plt.savefig(f\"output_data/plot{plot_count}.png\")\n",
    "plt.show()"
   ]
  },
  {
   "cell_type": "markdown",
   "metadata": {},
   "source": [
    "####  Southern Hemisphere - Wind Speed (mph) vs. Latitude Linear Regression"
   ]
  },
  {
   "cell_type": "code",
   "execution_count": 85,
   "metadata": {},
   "outputs": [
    {
     "name": "stdout",
     "output_type": "stream",
     "text": [
      "The r-value is: 0.10414059478533072\n"
     ]
    },
    {
     "data": {
      "image/png": "[encoded data removed]",
      "text/plain": [
       "<Figure size 432x288 with 1 Axes>"
      ]
     },
     "metadata": {
      "needs_background": "light"
     },
     "output_type": "display_data"
    }
   ],
   "source": [
    "# Set data to x and y axes\n",
    "x_values = southern_hemisphere['Lat']\n",
    "y_values = southern_hemisphere['Wind Speed']\n",
    "\n",
    "# Perform a linear regression on temperature vs. latitude\n",
    "(slope, intercept, rvalue, pvalue, stderr) = linregress(x_values, y_values)\n",
    "\n",
    "# Get regression values\n",
    "regress_values = x_values * slope + intercept\n",
    "\n",
    "# Create line equation string\n",
    "line_eq = \"y = \" + str(round(slope,2)) + \"x +\" + str(round(intercept,2))\n",
    "\n",
    "# Print r value\n",
    "print(f\"The r-value is: {rvalue**2}\")\n",
    "\n",
    "# Create scatter plot with linear regression\n",
    "plt.scatter(x_values,y_values)\n",
    "plt.plot(x_values,regress_values,\"r-\")\n",
    "plt.xlabel('Latitude')\n",
    "plt.ylabel('Wind Speed (meter/sec)')\n",
    "plt.title('Southern Hemisphere - Latitude vs. Wind Speed (meter/sec)')\n",
    "plt.annotate(line_eq,(-30,15),fontsize=15,color=\"red\")\n",
    "plot_count = plot_count + 1\n",
    "plt.savefig(f\"output_data/plot{plot_count}.png\")\n",
    "plt.show()"
   ]
  },
  {
   "cell_type": "code",
   "execution_count": null,
   "metadata": {},
   "outputs": [],
   "source": [
    "# Observations\n",
    "\n",
    "# 1) The Northern Hemisphere has a strong corelation between Latitude vs. Max Temperature while the Southern Hemisphere is not\n",
    "#    as strong. This is likely due to the seasons influenced by the tilted axis of the Earth.\n",
    "# 2) The Northern Hemisphere appears to be experiencing the season of winter while the southern hemisphere is the opposite,\n",
    "#    experiencing the season of summer. This is largely based on the range of Max Temperature between hemispheres.\n",
    "# 3) The Wind Speed appears to plateau out at about 10 meters/sec in both the Northern and Southern Hemisphere. Any anomalous\n",
    "#    data above that plateau could very well be a storm event and is otherwise isolated."
   ]
  }
 ],
 "metadata": {
  "anaconda-cloud": {},
  "kernel_info": {
   "name": "python3"
  },
  "kernelspec": {
   "display_name": "Python 3",
   "language": "python",
   "name": "python3"
  },
  "language_info": {
   "codemirror_mode": {
    "name": "ipython",
    "version": 3
   },
   "file_extension": ".py",
   "mimetype": "text/x-python",
   "name": "python",
   "nbconvert_exporter": "python",
   "pygments_lexer": "ipython3",
   "version": "3.8.5"
  },
  "latex_envs": {
   "LaTeX_envs_menu_present": true,
   "autoclose": false,
   "autocomplete": true,
   "bibliofile": "biblio.bib",
   "cite_by": "apalike",
   "current_citInitial": 1,
   "eqLabelWithNumbers": true,
   "eqNumInitial": 1,
   "hotkeys": {
    "equation": "Ctrl-E",
    "itemize": "Ctrl-I"
   },
   "labels_anchors": false,
   "latex_user_defs": false,
   "report_style_numbering": false,
   "user_envs_cfg": false
  },
  "nteract": {
   "version": "0.12.3"
  }
 },
 "nbformat": 4,
 "nbformat_minor": 2
}
